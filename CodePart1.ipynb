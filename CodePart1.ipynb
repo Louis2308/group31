{
 "cells": [
  {
   "cell_type": "markdown",
   "id": "b4c7e684",
   "metadata": {},
   "source": [
    "Hejndenjndejdoajfnaf"
   ]
  }
 ],
 "metadata": {
  "language_info": {
   "name": "python"
  }
 },
 "nbformat": 4,
 "nbformat_minor": 5
}
