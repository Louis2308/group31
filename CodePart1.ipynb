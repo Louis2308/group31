{
 "cells": [
  {
   "cell_type": "markdown",
   "id": "b4c7e684",
   "metadata": {},
   "source": [
    "1A) We first consider that this consumer has a single (fully) flexible load and a rooftop\n",
    "PV panel. They want to utilize their flexible load and rooftop PV production to\n",
    "minimize their daily energy procurement cost. Their maximum hourly PV production\n",
    "is perfectly known, but can be fully curtailed. Their load is fully flexible in each hour,\n",
    "however, the consumer wants to satisfy a minimum (total) energy consumption at the\n",
    "end of the day. They can sell/buy electricity to/from the distribution grid at an hourly\n",
    "electricity price, but must pay an hourly grid tariff fee for all net imports and exports.\n",
    "We analyze how these cost structures can impact their flexibility and profits."
   ]
  },
  {
   "cell_type": "markdown",
   "id": "f75553ac",
   "metadata": {},
   "source": [
    "i) Formulate the optimization problem of this flexible consumer, describing its main\n",
    "components (input data, decision variables, objective function, constraints) and\n",
    "properties."
   ]
  }
 ],
 "metadata": {
  "language_info": {
   "name": "python"
  }
 },
 "nbformat": 4,
 "nbformat_minor": 5
}
