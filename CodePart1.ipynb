{
 "cells": [
  {
   "cell_type": "markdown",
   "id": "62719f5b",
   "metadata": {},
   "source": [
    "##  Initialization"
   ]
  },
  {
   "cell_type": "code",
   "execution_count": null,
   "id": "62b66057",
   "metadata": {},
   "outputs": [],
   "source": [
    "# Import packages\n",
    "import gurobipy as gp\n",
    "from gurobipy import GRB\n",
    "import pandas as pd\n",
    "import numpy as np\n",
    "from itertools import permutations\n",
    "import matplotlib.pyplot as plt\n",
    "import copy\n",
    "from IPython.display import display\n"
   ]
  },
  {
   "cell_type": "markdown",
   "id": "2eb43113",
   "metadata": {},
   "source": [
    "## 1. Consumer-level flexibility models"
   ]
  },
  {
   "cell_type": "markdown",
   "id": "b4c7e684",
   "metadata": {},
   "source": [
    "1A) We first consider that this consumer has a single (fully) flexible load and a rooftop\n",
    "PV panel. They want to utilize their flexible load and rooftop PV production to\n",
    "minimize their daily energy procurement cost. Their maximum hourly PV production\n",
    "is perfectly known, but can be fully curtailed. Their load is fully flexible in each hour,\n",
    "however, the consumer wants to satisfy a minimum (total) energy consumption at the\n",
    "end of the day. They can sell/buy electricity to/from the distribution grid at an hourly\n",
    "electricity price, but must pay an hourly grid tariff fee for all net imports and exports.\n",
    "We analyze how these cost structures can impact their flexibility and profits."
   ]
  },
  {
   "cell_type": "markdown",
   "id": "f75553ac",
   "metadata": {},
   "source": [
    "i) Formulate the optimization problem of this flexible consumer, describing its main\n",
    "components (input data, decision variables, objective function, constraints) and\n",
    "properties.\n",
    "\n"
   ]
  },
  {
   "cell_type": "markdown",
   "id": "ddaf62dd",
   "metadata": {},
   "source": [
    "The optimization problem has the following:\n",
    "\n",
    "Input data\n",
    "- $p_t$: electricity price [DKK/kWh]  \n",
    "- $g_t$: grid tariff [DKK/kWh]  \n",
    "- $\\bar{y}_t$: max PV generation [kWh]  \n",
    "- $E_{\\min}$: minimum daily energy consumption [kWh]  \n",
    "- $c^{PV}$: marginal PV cost [DKK/kWh] (often 0)\n"
   ]
  },
  {
   "cell_type": "code",
   "execution_count": null,
   "id": "9213fed7",
   "metadata": {},
   "outputs": [],
   "source": []
  },
  {
   "cell_type": "markdown",
   "id": "271aa411",
   "metadata": {},
   "source": [
    "ii) Formulate the dual problem, Lagrangian, and KKT conditions of this optimization\n",
    "problem. Describe their properties."
   ]
  },
  {
   "cell_type": "code",
   "execution_count": null,
   "id": "52a1ada3",
   "metadata": {},
   "outputs": [],
   "source": []
  },
  {
   "cell_type": "markdown",
   "id": "fb953396",
   "metadata": {},
   "source": [
    "iii) Without numerically solving this optimization problem, analyze its structure and\n",
    "discuss qualitatively the characteristics of its optimal solutions. Which cost com-\n",
    "ponents and constraints have the most impact on the solutions? Which constraint\n",
    "are binding at optimality? How does the input data impact the optimal solutions?\n",
    "In particular, compare the cases in which: the electricity prices and grid tariffs\n",
    "are constant through the day or vary hourly. For which values of the cost compo-\n",
    "nents, can you conclude that this optimization problem is equivalent to a simpler\n",
    "optimization one? Tip: you can use the dual formulation and KKT conditions to\n",
    "motivate your analysis"
   ]
  },
  {
   "cell_type": "code",
   "execution_count": null,
   "id": "2ebf9bd7",
   "metadata": {},
   "outputs": [],
   "source": []
  },
  {
   "cell_type": "markdown",
   "id": "dbc94232",
   "metadata": {},
   "source": [
    "iv) Implement this optimization problem in a programming language of your choice.\n",
    "Provide a well-documented working code."
   ]
  },
  {
   "cell_type": "code",
   "execution_count": null,
   "id": "bd791536",
   "metadata": {},
   "outputs": [],
   "source": []
  },
  {
   "cell_type": "markdown",
   "id": "9b702730",
   "metadata": {},
   "source": [
    "v) Construct relevant scenarios of system-level cost structures based on the data pro-\n",
    "vided, solve this optimization problem over these scenarios, analyze its optimal\n",
    "solutions (primal and dual) and answer the following question: How do cost struc-\n",
    "tures impact the consumers flexibility and profits? Present your insights in a\n",
    "compact manner using adequate visual aids. Do these solutions align with your\n",
    "analysis from Question 1.(a).iii.?"
   ]
  }
 ],
 "metadata": {
  "kernelspec": {
   "display_name": "Python 3",
   "language": "python",
   "name": "python3"
  },
  "language_info": {
   "name": "python",
   "version": "3.12.2"
  }
 },
 "nbformat": 4,
 "nbformat_minor": 5
}
